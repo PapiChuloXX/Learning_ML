{
 "cells": [
  {
   "attachments": {},
   "cell_type": "markdown",
   "metadata": {},
   "source": [
    "I will be using a Linear Regression Model to predict the insurance dataset"
   ]
  },
  {
   "attachments": {},
   "cell_type": "markdown",
   "metadata": {},
   "source": [
    "Loading Dependencies"
   ]
  },
  {
   "cell_type": "code",
   "execution_count": 86,
   "metadata": {},
   "outputs": [],
   "source": [
    "from sklearn.model_selection import train_test_split\n",
    "from sklearn.metrics import mean_absolute_error\n",
    "from sklearn.linear_model import LogisticRegression\n",
    "import matplotlib.pyplot as plt\n",
    "import pandas as pd\n",
    "import numpy as np"
   ]
  },
  {
   "cell_type": "code",
   "execution_count": 87,
   "metadata": {},
   "outputs": [
    {
     "data": {
      "image/png": "[encoded data removed]",
      "text/plain": [
       "<Figure size 640x480 with 1 Axes>"
      ]
     },
     "metadata": {},
     "output_type": "display_data"
    }
   ],
   "source": [
    "training_data = pd.read_csv(\"insurance_data.csv\")\n",
    "\n",
    "pos = training_data.bought_insurance == 1\n",
    "neg = training_data.bought_insurance == 0\n",
    "\n",
    "plt.scatter(training_data.age[pos], [1] * len(training_data.age[pos]), marker='o', c = 'b', label='Bought Insurance')\n",
    "plt.scatter(training_data.age[neg], [0] * len(training_data.age[neg]), marker='x', c ='r',label=\"Didn't Buy Insurance\")\n",
    "\n",
    "plt.xlabel('Age')\n",
    "plt.ylabel('Bought Insurance')\n",
    "plt.yticks([0, 1], [\"Not Bought\", \"Bought\"])\n",
    "plt.legend()\n",
    "plt.show()"
   ]
  },
  {
   "cell_type": "code",
   "execution_count": 126,
   "metadata": {},
   "outputs": [],
   "source": [
    "X_train, x_test, y_train, y_test = train_test_split(training_data[[\"age\"]], \n",
    "                                                    training_data[[\"bought_insurance\"]], random_state = 1)\n"
   ]
  },
  {
   "cell_type": "code",
   "execution_count": 127,
   "metadata": {},
   "outputs": [],
   "source": [
    "z = lambda w,x,b: w * x + b\n",
    "\n",
    "g = lambda z: 1 / (1 + np.exp(-z))\n"
   ]
  },
  {
   "cell_type": "code",
   "execution_count": 128,
   "metadata": {},
   "outputs": [],
   "source": [
    "def compute_gradient(x,y,w,b):\n",
    "    dj_dw = 0.\n",
    "    dj_db = 0.\n",
    "\n",
    "    m = x.shape[0]\n",
    "\n",
    "    for i in range(m):\n",
    "        loss = g(z(w,x[i][0],b)) - y[i][0]\n",
    "        dj_dw += loss * x[i][0]\n",
    "        dj_db += loss\n",
    "\n",
    "    return dj_dw / m , dj_db / m"
   ]
  },
  {
   "cell_type": "code",
   "execution_count": 129,
   "metadata": {},
   "outputs": [],
   "source": [
    "def gradient_descent(x,y,w,b,nums_iter,alpha):\n",
    "    for _ in range(nums_iter):\n",
    "        dj_dw, dJ_db = compute_gradient(x,y,w,b)\n",
    "        w -= alpha * dj_dw\n",
    "        b -= alpha * dJ_db\n",
    "\n",
    "    return w,b"
   ]
  },
  {
   "cell_type": "code",
   "execution_count": 130,
   "metadata": {},
   "outputs": [
    {
     "name": "stdout",
     "output_type": "stream",
     "text": [
      "0.8571428571428572\n"
     ]
    }
   ],
   "source": [
    "fit = lambda X,y: gradient_descent(X.values,y.values,0.,0.,10000,0.01)\n",
    "\n",
    "w,b = fit(X_train,y_train)\n",
    "\n",
    "def predict(X):\n",
    "    X = X.values\n",
    "    m = X.shape[0]\n",
    "    predictions = np.zeros(X.shape)\n",
    "\n",
    "    for i in range(m):\n",
    "        res  = g(z(w,X[i][0],b))\n",
    "        predictions[i][0] = round(res) if res >= 0.5 else 0\n",
    "\n",
    "    return predictions\n",
    "\n",
    "print(1 - mean_absolute_error(y_test,predict(x_test)))"
   ]
  },
  {
   "cell_type": "code",
   "execution_count": 131,
   "metadata": {},
   "outputs": [
    {
     "name": "stderr",
     "output_type": "stream",
     "text": [
      "c:\\Users\\olaoy\\AppData\\Local\\Programs\\Python\\Python310\\lib\\site-packages\\sklearn\\utils\\validation.py:1143: DataConversionWarning: A column-vector y was passed when a 1d array was expected. Please change the shape of y to (n_samples, ), for example using ravel().\n",
      "  y = column_or_1d(y, warn=True)\n"
     ]
    },
    {
     "data": {
      "text/plain": [
       "0.8571428571428571"
      ]
     },
     "execution_count": 131,
     "metadata": {},
     "output_type": "execute_result"
    }
   ],
   "source": [
    "model = LogisticRegression()\n",
    "\n",
    "model.fit(X_train,y_train)\n",
    "model.score(x_test,y_test)"
   ]
  }
 ],
 "metadata": {
  "kernelspec": {
   "display_name": "Python 3",
   "language": "python",
   "name": "python3"
  },
  "language_info": {
   "codemirror_mode": {
    "name": "ipython",
    "version": 3
   },
   "file_extension": ".py",
   "mimetype": "text/x-python",
   "name": "python",
   "nbconvert_exporter": "python",
   "pygments_lexer": "ipython3",
   "version": "3.10.11"
  },
  "orig_nbformat": 4
 },
 "nbformat": 4,
 "nbformat_minor": 2
}
